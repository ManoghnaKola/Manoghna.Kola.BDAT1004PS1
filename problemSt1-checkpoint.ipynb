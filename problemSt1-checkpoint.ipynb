{
 "cells": [
  {
   "cell_type": "code",
   "execution_count": null,
   "id": "49af61ac",
   "metadata": {},
   "outputs": [],
   "source": [
    "#Question1\n",
    "\n",
    "5                                    -                     int\n",
    "5.0                                  -                     float                              \n",
    "5 > 1                                -                     bool\n",
    "'5'                                  -                     char\n",
    "5 * 2                                -                     int\n",
    "'5' * 2                              -                     str\n",
    "'5' + '2'                            -                     str   \n",
    "5 / 2                                -                     float\n",
    "5 % 2                                -                     int\n",
    "{5, 2, 1}                            -                     list\n",
    "5 == 3                               -                     bool\n",
    "Pi (the number)                      -                     float\n",
    "\n"
   ]
  },
  {
   "cell_type": "code",
   "execution_count": 29,
   "id": "405a12a0",
   "metadata": {},
   "outputs": [
    {
     "ename": "SyntaxError",
     "evalue": "invalid syntax (<ipython-input-29-a751023a8e61>, line 1)",
     "output_type": "error",
     "traceback": [
      "\u001b[1;36m  File \u001b[1;32m\"<ipython-input-29-a751023a8e61>\"\u001b[1;36m, line \u001b[1;32m1\u001b[0m\n\u001b[1;33m    using System;\u001b[0m\n\u001b[1;37m          ^\u001b[0m\n\u001b[1;31mSyntaxError\u001b[0m\u001b[1;31m:\u001b[0m invalid syntax\n"
     ]
    }
   ],
   "source": [
    "#Question2-a\n",
    "\n",
    "using System;\n",
    "\n",
    "namespace dataType\n",
    "{\n",
    "    class Program\n",
    "    {\n",
    "        static void Main(string[] args)\n",
    "        {\n",
    "            string str; int a = 0; int letters = 0; int digits = 0;\n",
    "            Console.WriteLine(\"Enter a String\");\n",
    "            str =  Console.ReadLine();\n",
    "            while (a < str.Length)\n",
    "            {\n",
    "                if((str[a] >= 'A' && str[a] <= 'Z') || (str[a] >= 'a' && str[a] <= 'z'))\n",
    "                {\n",
    "                    letters++;\n",
    "                }\n",
    "                else\n",
    "                {\n",
    "                    digits++;\n",
    "                }\n",
    "                a++;   \n",
    "            }\n",
    "            Console.WriteLine(\"Num of letters={0}\", letters);\n",
    "        }\n",
    "    }\n",
    "}"
   ]
  },
  {
   "cell_type": "code",
   "execution_count": null,
   "id": "e59b1714",
   "metadata": {},
   "outputs": [],
   "source": [
    "Output2-a :    \"C:\\Users\\USER\\Desktop\\2-a.png\""
   ]
  },
  {
   "cell_type": "code",
   "execution_count": null,
   "id": "16e5bf98",
   "metadata": {},
   "outputs": [],
   "source": [
    "#Question2-b\n",
    "\n",
    "using System;\n",
    "\n",
    "namespace question2b\n",
    "{\n",
    "    class Program\n",
    "    {\n",
    "        static void Main(string[] args)\n",
    "        {\n",
    "            string str = \"Supercalifragilisticexpialidocious\";\n",
    "            //Console.WriteLine(\"Enter a String\");\n",
    "\n",
    "            if (str.Contains(\"ice\"))\n",
    "            {\n",
    "                Console.WriteLine(\"Ice contains in the String\");\n",
    "            }\n",
    "            else\n",
    "            {\n",
    "                Console.WriteLine(\"Ice does not contain in the String\");\n",
    "            }\n",
    "\n",
    "        }\n",
    "    }\n",
    "}"
   ]
  },
  {
   "cell_type": "code",
   "execution_count": null,
   "id": "0b85336c",
   "metadata": {},
   "outputs": [],
   "source": [
    "Output2-b :      \"C:\\Users\\USER\\Desktop\\2-b.png\""
   ]
  },
  {
   "cell_type": "code",
   "execution_count": null,
   "id": "d7b58f6d",
   "metadata": {},
   "outputs": [],
   "source": [
    "#Question2-c\n",
    "\n",
    "using System;\n",
    "\n",
    "namespace question2_c\n",
    "{\n",
    "    class Program\n",
    "    {\n",
    "        static void Main(string[] args)\n",
    "        {\n",
    "\n",
    "            string str1 = \"Supercalifragilisticexpialidocious\";\n",
    "            string str2 = \"Honorificabilitudinitatibus\";\n",
    "            string str3 = \"Bababadalgharaghtakamminarronnkonn\";\n",
    "            if (str1.Length>=str2.Length)\n",
    "                if (str1.Length>=str3.Length)\n",
    "                {       \n",
    "                    Console.WriteLine(str1 + \" is the largest \");\n",
    "                }\n",
    "                else\n",
    "                {\n",
    "                    Console.WriteLine(str3 + \" is the largest\");\n",
    "\n",
    "                }       \n",
    "            else if(str2.Length>=str3.Length)\n",
    "            {\n",
    "                Console.WriteLine( str2 + \" is the largest\");\n",
    "            }\n",
    "            else\n",
    "            {\n",
    "                Console.WriteLine(str3 + \" is the largest\");\n",
    "            }\n",
    "        }\n",
    "\n",
    "    }\n",
    "}\n",
    "\n"
   ]
  },
  {
   "cell_type": "code",
   "execution_count": null,
   "id": "7f171836",
   "metadata": {},
   "outputs": [],
   "source": [
    "Output2-c:              \"C:\\Users\\USER\\Desktop\\2-c.png\""
   ]
  },
  {
   "cell_type": "code",
   "execution_count": null,
   "id": "ee314287",
   "metadata": {},
   "outputs": [],
   "source": [
    "#Question2-d\n",
    "\n",
    "using System;\n",
    "using System.Collections.Generic;\n",
    "\n",
    "namespace question2_d\n",
    "{\n",
    "    class Program\n",
    "    {\n",
    "        static void Main(string[] args)\n",
    "        {\n",
    "            List<string> l = new List<string> {\"Berlioz\", \"Borodin\", \"Brian\",\n",
    "\"Bartok\", \"Bellini\", \"Buxtehude\", \"Bernstein\"};\n",
    "            l.Sort();\n",
    "            \n",
    "           foreach (string s in l)\n",
    "            {\n",
    "                Console.WriteLine(s);\n",
    "            }\n",
    "        }\n",
    "    }\n",
    "}\n"
   ]
  },
  {
   "cell_type": "code",
   "execution_count": null,
   "id": "9a1d3297",
   "metadata": {},
   "outputs": [],
   "source": [
    "Output2-d:            \"C:\\Users\\USER\\Desktop\\2-d.png\""
   ]
  },
  {
   "cell_type": "code",
   "execution_count": null,
   "id": "502fdff5",
   "metadata": {},
   "outputs": [],
   "source": [
    "#Question3\n",
    "\n",
    "using System;\n",
    "\n",
    "namespace question3\n",
    "{\n",
    "    class Program\n",
    "    {\n",
    "        static void Main(string[] args)\n",
    "        {\n",
    "            int a = Convert.ToInt32(Console.ReadLine());\n",
    "            int b = Convert.ToInt32(Console.ReadLine());\n",
    "            int c = Convert.ToInt32(Console.ReadLine());\n",
    "\n",
    "            int s = (a + b + c) / 2;\n",
    "            double Sproduct = s * (s - a) * (s - b) * (s - c);\n",
    "            double Area = Math.Sqrt(Sproduct);\n",
    "            Console.WriteLine(\"Area is  \"+Area);\n",
    "\n",
    "        }\n",
    "    }\n",
    "}\n",
    "\n"
   ]
  },
  {
   "cell_type": "code",
   "execution_count": null,
   "id": "3726de8e",
   "metadata": {},
   "outputs": [],
   "source": [
    "Output3:            \"C:\\Users\\USER\\Desktop\\3.png\""
   ]
  },
  {
   "cell_type": "code",
   "execution_count": null,
   "id": "e42579ef",
   "metadata": {},
   "outputs": [],
   "source": [
    "#Question4\n",
    "\n",
    "using System;\n",
    "namespace question4\n",
    "{\n",
    "    class Program\n",
    "    {\n",
    "        static void Main(string[] args)\n",
    "        {\n",
    "            Console.WriteLine(\"Input the number of elements to be stored in the array :\");\n",
    "            int n = Convert.ToInt32(Console.ReadLine());\n",
    "            int e = 0;\n",
    "            int o = 0;\n",
    "            Console.WriteLine(\" Input \" +n +\" elements in the array : \");\n",
    "            int[] array = new int[n];\n",
    "            int[] evenArray = new int[n];\n",
    "            int[] oddArray = new int[n];\n",
    "            for (int i=0;i<n;i++)\n",
    "            {\n",
    "                Console.WriteLine(\"element- \" +i);\n",
    "                int k = Convert.ToInt32(Console.ReadLine());\n",
    "                array[i] = k;\n",
    "            }\n",
    "            foreach (int ele in array)\n",
    "            {\n",
    "                if(ele % 2 ==0)\n",
    "                {                    \n",
    "                    evenArray[e] = ele;\n",
    "                    e += 1;\n",
    "                }\n",
    "                else\n",
    "                {                   \n",
    "                    oddArray[o] = ele;\n",
    "                    o += 1;\n",
    "                }\n",
    "            }\n",
    "              Console.Write(\"The even elements are \");\n",
    "            for(int i=0;i<e;i++)\n",
    "            {\n",
    "                Console.Write(evenArray[i]+\",\");\n",
    "            }\n",
    "            Console.Write(\"The odd elements are \");\n",
    "            for (int i = 0; i < o; i++)\n",
    "            {\n",
    "                Console.Write(oddArray[i] + \",\");\n",
    "            }\n",
    "        }\n",
    "    }\n",
    "}\n"
   ]
  },
  {
   "cell_type": "code",
   "execution_count": null,
   "id": "1a208655",
   "metadata": {},
   "outputs": [],
   "source": [
    "Output4:           \"C:\\Users\\USER\\Desktop\\4.png\""
   ]
  },
  {
   "cell_type": "code",
   "execution_count": null,
   "id": "478cb1a1",
   "metadata": {},
   "outputs": [],
   "source": [
    "#Question5-a\n",
    "\n",
    "using System;\n",
    "\n",
    "namespace question5\n",
    "{\n",
    "    class Program\n",
    "    {\n",
    "        static void Main(string[] args)\n",
    "        {\n",
    "            Console.WriteLine(\"Enter the values for x,y,x1,y1,x2,y2\");\n",
    "            \n",
    "            double[] array = new double[6];\n",
    "\n",
    "            for (int i =0; i<=5; i++)\n",
    "            {\n",
    "                double k = Convert.ToDouble(Console.ReadLine());\n",
    "                array[i] = k;\n",
    "            }\n",
    "            inside(array[0], array[1], array[2], array[3], array[4], array[5]);\n",
    "        }\n",
    "\n",
    "        private static void inside(double v1, double v2, double v3, double v4, double v5, double v6)\n",
    "        {\n",
    "\n",
    "            if (v1 > v3 && v1 < v5 && v2 > v4 && v2 < v6)\n",
    "            {\n",
    "                Console.WriteLine(\"True\");\n",
    "            }\n",
    "            else\n",
    "            {\n",
    "                Console.WriteLine(\"False\");\n",
    "            }\n",
    "        }\n",
    "\n",
    "    }\n",
    "}\n",
    "\n"
   ]
  },
  {
   "cell_type": "code",
   "execution_count": null,
   "id": "3e0c8776",
   "metadata": {},
   "outputs": [],
   "source": [
    "Output5-a:           \"C:\\Users\\USER\\Desktop\\5-a.png\""
   ]
  },
  {
   "cell_type": "code",
   "execution_count": null,
   "id": "908b8b12",
   "metadata": {},
   "outputs": [],
   "source": [
    "#Question5-b\n",
    "\n",
    "using System;\n",
    "\n",
    "namespace question5\n",
    "{\n",
    "    class Program\n",
    "    {\n",
    "        static void Main(string[] args)\n",
    "        {\n",
    "            Console.WriteLine(\"Enter the values for x,y,x1,y1,x2,y2\");\n",
    "            \n",
    "            double[] array = new double[6];\n",
    "\n",
    "            for (int i =0; i<=5; i++)\n",
    "            {\n",
    "                double k = Convert.ToDouble(Console.ReadLine());\n",
    "                array[i] = k;\n",
    "            }\n",
    "            inside(array[0], array[1], array[2], array[3], array[4], array[5]);\n",
    "        }\n",
    "\n",
    "        private static void inside(double v1, double v2, double v3, double v4, double v5, double v6)\n",
    "        {\n",
    "\n",
    "            if (v1 > v3 && v1 < v5 && v2 > v4 && v2 < v6)\n",
    "            {\n",
    "                Console.WriteLine(\"True\");\n",
    "            }\n",
    "            else\n",
    "            {\n",
    "                Console.WriteLine(\"False\");\n",
    "            }\n",
    "        }\n",
    "\n",
    "    }\n",
    "}\n"
   ]
  },
  {
   "cell_type": "code",
   "execution_count": null,
   "id": "a0e2b9cf",
   "metadata": {},
   "outputs": [],
   "source": [
    "Output5-b:           \"C:\\Users\\USER\\Desktop\\5-b.png\""
   ]
  },
  {
   "cell_type": "code",
   "execution_count": 28,
   "id": "74a08e96",
   "metadata": {},
   "outputs": [
    {
     "name": "stdout",
     "output_type": "stream",
     "text": [
      "enterway\n",
      "appyay\n"
     ]
    }
   ],
   "source": [
    "#Question6\n",
    "\n",
    "def pig(value):\n",
    "    name = value\n",
    "    l = ['a','e','i','o','u','A','E','I','O','U']\n",
    "    if name[0] in l:\n",
    "        d = name.lower() + \"way\"\n",
    "        print(d)\n",
    "    else:\n",
    "        c= name[1:] + \"ay\"\n",
    "        print(c)\n",
    "pig('Enter')\n",
    "pig('happy')\n",
    "\n",
    "\n",
    "\n",
    "\n"
   ]
  },
  {
   "cell_type": "code",
   "execution_count": 73,
   "id": "d3973a8c",
   "metadata": {},
   "outputs": [
    {
     "name": "stdout",
     "output_type": "stream",
     "text": [
      "AB AB B O A A AB O AB A O O A A A O O O AB O A A A A A AB AB A AB O AB O A O O O AB O AB AB AB A A O \n",
      "\n",
      "<class 'str'>\n",
      "There are 15 patients of blood type A\n",
      "There are 13 patients of blood type AB\n",
      "There are 15 patients of blood type O\n",
      "There is 1 patients of blood type B\n",
      "There are no patients of blood type OO\n"
     ]
    }
   ],
   "source": [
    "#Question7\n",
    "\n",
    "def bldcount():\n",
    "    \n",
    "    file = open(\"C:\\\\Users\\\\USER\\\\Downloads\\\\bloodtype.txt\", \"r\")\n",
    "    bloodgroups = file.read()\n",
    "    lst = bloodgroups.split(\" \")\n",
    "    print(bloodgroups)\n",
    "    typeslist = [\"A\",\"AB\",\"O\",\"B\", \"OO\"]\n",
    "  \n",
    "    for c in typeslist:\n",
    "        if lst.count(c)>1:\n",
    "            print(\"There are \" + str(lst.count(c)) + \" patients of blood type \" + c)\n",
    "        elif lst.count(c)== 1:\n",
    "            print(\"There is \" + str(lst.count(c)) + \" patients of blood type \" + c)\n",
    "        else:\n",
    "            print(\"There are no patients of blood type \" + c)\n",
    "            \n",
    "        \n",
    "   \n",
    "    \n",
    "        \n",
    "bldcount()\n",
    "    "
   ]
  },
  {
   "cell_type": "code",
   "execution_count": 35,
   "id": "397581c9",
   "metadata": {},
   "outputs": [
    {
     "name": "stdout",
     "output_type": "stream",
     "text": [
      "Enter ammount60\n",
      "Enter Currency typeEUR\n",
      "4\n",
      "73.779264\n"
     ]
    }
   ],
   "source": [
    "#Question8\n",
    "def curconv(amt,cur):\n",
    "     cu= cur\n",
    "     am= amt   \n",
    "     tpl = ()\n",
    "     lst_sym =[]\n",
    "     lst_con = []\n",
    "          \n",
    "     file = open(\"C:\\\\Users\\\\USER\\\\Downloads\\\\currencies.txt\", \"r\")\n",
    "     c = file.read()\n",
    "     #print(c)\n",
    "     splt = c.split(\"\\n\")\n",
    "     #print(splt)\n",
    "     con_amt=0\n",
    "     for a in splt:\n",
    "        b = a.split(\"\\t\")\n",
    "        #print(b)\n",
    "        b1 = float(b[1])\n",
    "        lst_sym.append(b[0])\n",
    "        lst_con.append(b1)\n",
    "     #print(cu)\n",
    "     \n",
    "     index = lst_sym.index(cu)\n",
    "     print(index)\n",
    "     amt2= lst_con[index]\n",
    "     con_amt= am * amt2\n",
    "     return con_amt\n",
    "       \n",
    "ammount = int (input(\"Enter ammount\"))    \n",
    "curreCode = str (input(\"Enter Currency type\"))\n",
    "k = curconv(ammount,curreCode)\n",
    "\n",
    "print(k)"
   ]
  },
  {
   "cell_type": "code",
   "execution_count": 216,
   "id": "a22e89e8",
   "metadata": {
    "scrolled": true
   },
   "outputs": [
    {
     "ename": "TypeError",
     "evalue": "unsupported operand type(s) for +: 'int' and 'str'",
     "output_type": "error",
     "traceback": [
      "\u001b[1;31m---------------------------------------------------------------------------\u001b[0m",
      "\u001b[1;31mTypeError\u001b[0m                                 Traceback (most recent call last)",
      "\u001b[1;32m<ipython-input-216-6c7c2eb70a38>\u001b[0m in \u001b[0;36m<module>\u001b[1;34m\u001b[0m\n\u001b[0;32m      3\u001b[0m \u001b[0mval\u001b[0m\u001b[1;33m=\u001b[0m \u001b[1;34m'a'\u001b[0m\u001b[1;33m\u001b[0m\u001b[1;33m\u001b[0m\u001b[0m\n\u001b[0;32m      4\u001b[0m \u001b[1;33m\u001b[0m\u001b[0m\n\u001b[1;32m----> 5\u001b[1;33m \u001b[0mcombination\u001b[0m \u001b[1;33m=\u001b[0m \u001b[0mprint\u001b[0m\u001b[1;33m(\u001b[0m\u001b[0mnum\u001b[0m \u001b[1;33m+\u001b[0m \u001b[0mval\u001b[0m\u001b[1;33m)\u001b[0m\u001b[1;33m\u001b[0m\u001b[1;33m\u001b[0m\u001b[0m\n\u001b[0m\u001b[0;32m      6\u001b[0m \u001b[1;33m\u001b[0m\u001b[0m\n",
      "\u001b[1;31mTypeError\u001b[0m: unsupported operand type(s) for +: 'int' and 'str'"
     ]
    }
   ],
   "source": [
    "#Quesion9-a\n",
    "num= 6\n",
    "val= 'a'\n",
    "\n",
    "combination = print(num + val)\n",
    "\n"
   ]
  },
  {
   "cell_type": "code",
   "execution_count": 8,
   "id": "bd524fb3",
   "metadata": {},
   "outputs": [
    {
     "ename": "IndexError",
     "evalue": "list index out of range",
     "output_type": "error",
     "traceback": [
      "\u001b[1;31m---------------------------------------------------------------------------\u001b[0m",
      "\u001b[1;31mIndexError\u001b[0m                                Traceback (most recent call last)",
      "\u001b[1;32m<ipython-input-8-3c813b21e2bb>\u001b[0m in \u001b[0;36m<module>\u001b[1;34m\u001b[0m\n\u001b[0;32m      1\u001b[0m \u001b[1;31m#Question9-b\u001b[0m\u001b[1;33m\u001b[0m\u001b[1;33m\u001b[0m\u001b[1;33m\u001b[0m\u001b[0m\n\u001b[0;32m      2\u001b[0m \u001b[0mlst\u001b[0m \u001b[1;33m=\u001b[0m \u001b[1;33m[\u001b[0m\u001b[1;36m0\u001b[0m\u001b[1;33m,\u001b[0m\u001b[1;36m1\u001b[0m\u001b[1;33m,\u001b[0m\u001b[1;36m2\u001b[0m\u001b[1;33m,\u001b[0m\u001b[1;36m3\u001b[0m\u001b[1;33m,\u001b[0m\u001b[1;36m4\u001b[0m\u001b[1;33m,\u001b[0m\u001b[1;36m5\u001b[0m\u001b[1;33m,\u001b[0m\u001b[1;36m6\u001b[0m\u001b[1;33m,\u001b[0m\u001b[1;36m7\u001b[0m\u001b[1;33m,\u001b[0m\u001b[1;36m8\u001b[0m\u001b[1;33m,\u001b[0m\u001b[1;36m9\u001b[0m\u001b[1;33m]\u001b[0m\u001b[1;33m\u001b[0m\u001b[1;33m\u001b[0m\u001b[0m\n\u001b[1;32m----> 3\u001b[1;33m \u001b[0ma\u001b[0m\u001b[1;33m=\u001b[0m \u001b[0mlst\u001b[0m\u001b[1;33m[\u001b[0m\u001b[1;36m12\u001b[0m\u001b[1;33m]\u001b[0m\u001b[1;33m\u001b[0m\u001b[1;33m\u001b[0m\u001b[0m\n\u001b[0m",
      "\u001b[1;31mIndexError\u001b[0m: list index out of range"
     ]
    }
   ],
   "source": [
    "#Question9-b\n",
    "lst = [0,1,2,3,4,5,6,7,8,9]\n",
    "a= lst[12]\n"
   ]
  },
  {
   "cell_type": "code",
   "execution_count": 34,
   "id": "fb6f4e57",
   "metadata": {},
   "outputs": [
    {
     "ename": "ValueError",
     "evalue": "math domain error",
     "output_type": "error",
     "traceback": [
      "\u001b[1;31m---------------------------------------------------------------------------\u001b[0m",
      "\u001b[1;31mValueError\u001b[0m                                Traceback (most recent call last)",
      "\u001b[1;32m<ipython-input-34-2905444445b0>\u001b[0m in \u001b[0;36m<module>\u001b[1;34m\u001b[0m\n\u001b[0;32m      3\u001b[0m \u001b[1;32mimport\u001b[0m \u001b[0mmath\u001b[0m\u001b[1;33m\u001b[0m\u001b[1;33m\u001b[0m\u001b[0m\n\u001b[0;32m      4\u001b[0m \u001b[1;33m\u001b[0m\u001b[0m\n\u001b[1;32m----> 5\u001b[1;33m \u001b[0msqrt\u001b[0m \u001b[1;33m=\u001b[0m \u001b[0mmath\u001b[0m\u001b[1;33m.\u001b[0m\u001b[0msqrt\u001b[0m\u001b[1;33m(\u001b[0m\u001b[1;33m-\u001b[0m\u001b[1;36m1.0\u001b[0m\u001b[1;33m)\u001b[0m\u001b[1;33m\u001b[0m\u001b[1;33m\u001b[0m\u001b[0m\n\u001b[0m\u001b[0;32m      6\u001b[0m \u001b[1;33m\u001b[0m\u001b[0m\n\u001b[0;32m      7\u001b[0m \u001b[0mprint\u001b[0m\u001b[1;33m(\u001b[0m\u001b[1;34m\"Squareroot of \"\u001b[0m \u001b[1;33m+\u001b[0m \u001b[0mstr\u001b[0m\u001b[1;33m(\u001b[0m\u001b[0mn\u001b[0m\u001b[1;33m)\u001b[0m \u001b[1;33m+\u001b[0m \u001b[1;34m\" is: \"\u001b[0m \u001b[1;33m+\u001b[0m\u001b[0mstr\u001b[0m\u001b[1;33m(\u001b[0m\u001b[0msqrt\u001b[0m\u001b[1;33m)\u001b[0m\u001b[1;33m)\u001b[0m\u001b[1;33m\u001b[0m\u001b[1;33m\u001b[0m\u001b[0m\n",
      "\u001b[1;31mValueError\u001b[0m: math domain error"
     ]
    }
   ],
   "source": [
    "#Question9-c\n",
    "\n",
    "import math\n",
    "\n",
    "sqrt = math.sqrt(-1.0)\n",
    "\n",
    "print(\"Squareroot of \" + str(n) + \" is: \" +str(sqrt))\n",
    "\n"
   ]
  },
  {
   "cell_type": "code",
   "execution_count": 7,
   "id": "00a36bde",
   "metadata": {},
   "outputs": [
    {
     "name": "stdout",
     "output_type": "stream",
     "text": [
      "None\n"
     ]
    }
   ],
   "source": [
    "#Question9-d\n",
    "\n",
    "print(x)\n",
    "\n",
    "\n"
   ]
  },
  {
   "cell_type": "code",
   "execution_count": 6,
   "id": "12e8ea9d",
   "metadata": {},
   "outputs": [
    {
     "ename": "FileNotFoundError",
     "evalue": "[Errno 2] No such file or directory: 'C:\\\\Users\\\\USER\\\\Downloads\\\\sampleTest.txt'",
     "output_type": "error",
     "traceback": [
      "\u001b[1;31m---------------------------------------------------------------------------\u001b[0m",
      "\u001b[1;31mFileNotFoundError\u001b[0m                         Traceback (most recent call last)",
      "\u001b[1;32m<ipython-input-6-04ab34905962>\u001b[0m in \u001b[0;36m<module>\u001b[1;34m\u001b[0m\n\u001b[0;32m      1\u001b[0m \u001b[1;31m#Question9-e\u001b[0m\u001b[1;33m\u001b[0m\u001b[1;33m\u001b[0m\u001b[1;33m\u001b[0m\u001b[0m\n\u001b[0;32m      2\u001b[0m \u001b[1;33m\u001b[0m\u001b[0m\n\u001b[1;32m----> 3\u001b[1;33m \u001b[0mf\u001b[0m \u001b[1;33m=\u001b[0m \u001b[0mopen\u001b[0m\u001b[1;33m(\u001b[0m\u001b[1;34m\"C:\\\\Users\\\\USER\\\\Downloads\\\\sampleTest.txt\"\u001b[0m\u001b[1;33m,\u001b[0m \u001b[1;34m\"r\"\u001b[0m\u001b[1;33m)\u001b[0m\u001b[1;33m\u001b[0m\u001b[1;33m\u001b[0m\u001b[0m\n\u001b[0m\u001b[0;32m      4\u001b[0m \u001b[0mprint\u001b[0m\u001b[1;33m(\u001b[0m\u001b[0mfile\u001b[0m\u001b[1;33m.\u001b[0m\u001b[0mread\u001b[0m\u001b[1;33m(\u001b[0m\u001b[1;33m)\u001b[0m\u001b[1;33m)\u001b[0m\u001b[1;33m\u001b[0m\u001b[1;33m\u001b[0m\u001b[0m\n\u001b[0;32m      5\u001b[0m \u001b[1;33m\u001b[0m\u001b[0m\n",
      "\u001b[1;31mFileNotFoundError\u001b[0m: [Errno 2] No such file or directory: 'C:\\\\Users\\\\USER\\\\Downloads\\\\sampleTest.txt'"
     ]
    }
   ],
   "source": [
    "#Question9-e\n",
    "\n",
    "f = open(\"C:\\\\Users\\\\USER\\\\Downloads\\\\sampleTest.txt\", \"r\")\n",
    "print(file.read())\n",
    "\n"
   ]
  },
  {
   "cell_type": "code",
   "execution_count": 21,
   "id": "9bebcba6",
   "metadata": {},
   "outputs": [
    {
     "name": "stdout",
     "output_type": "stream",
     "text": [
      "Enter a stringAPPLE\n",
      "26\n",
      "[1, 0, 0, 0, 1, 0, 0, 0, 0, 0, 0, 1, 0, 0, 0, 2, 0, 0, 0, 0, 0, 0, 0, 0, 0, 0]\n"
     ]
    }
   ],
   "source": [
    "#Question10\n",
    "\n",
    "def frequencies():\n",
    "    lst=[]\n",
    "    name = input(\"Enter a string\")\n",
    "    s = \"ABCDEFGHIJKLMNOPQRSTUVWXYZ\"\n",
    "    i = 0\n",
    "    print(len(s))\n",
    "    while(i<len(s)):\n",
    "        k= name.count(s[i])\n",
    "        lst.append(k)\n",
    "        i+=1\n",
    "        \n",
    "    print(lst)\n",
    "\n",
    "frequencies()\n",
    "    "
   ]
  },
  {
   "cell_type": "code",
   "execution_count": null,
   "id": "f7a60986",
   "metadata": {},
   "outputs": [],
   "source": [
    "\n",
    "\n",
    "\n"
   ]
  },
  {
   "cell_type": "code",
   "execution_count": null,
   "id": "41d3b39f",
   "metadata": {},
   "outputs": [],
   "source": []
  }
 ],
 "metadata": {
  "kernelspec": {
   "display_name": "Python 3",
   "language": "python",
   "name": "python3"
  },
  "language_info": {
   "codemirror_mode": {
    "name": "ipython",
    "version": 3
   },
   "file_extension": ".py",
   "mimetype": "text/x-python",
   "name": "python",
   "nbconvert_exporter": "python",
   "pygments_lexer": "ipython3",
   "version": "3.8.8"
  }
 },
 "nbformat": 4,
 "nbformat_minor": 5
}
